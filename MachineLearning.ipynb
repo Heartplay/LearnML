{
  "nbformat": 4,
  "nbformat_minor": 0,
  "metadata": {
    "colab": {
      "provenance": [],
      "authorship_tag": "ABX9TyMdAq0dlPxV56UIRwnBzh6W",
      "include_colab_link": true
    },
    "kernelspec": {
      "name": "python3",
      "display_name": "Python 3"
    },
    "language_info": {
      "name": "python"
    }
  },
  "cells": [
    {
      "cell_type": "markdown",
      "metadata": {
        "id": "view-in-github",
        "colab_type": "text"
      },
      "source": [
        "<a href=\"https://colab.research.google.com/github/Heartplay/LearnML/blob/main/MachineLearning.ipynb\" target=\"_parent\"><img src=\"https://colab.research.google.com/assets/colab-badge.svg\" alt=\"Open In Colab\"/></a>"
      ]
    },
    {
      "cell_type": "code",
      "execution_count": null,
      "metadata": {
        "id": "obE3zr0w1I-v"
      },
      "outputs": [],
      "source": [
        "import sklearn\n",
        "import pandas as pd\n",
        "\n",
        "iris = pd.read_csv('Iris.csv')\n",
        "iris.drop('Id', axis = 1, inplace = True)\n",
        "\n",
        "x = iris[['SepalLengthCm', 'SepalWidthCm', 'PetalLengthCm', 'PetalWidthCm']]\n",
        "y = iris['Species']\n",
        "\n",
        "from sklearn.model_selection import train_test_split\n",
        "x_train, x_test, y_train, y_test = train_test_split(x, y, train_size = 0.1, random_state = 123)\n",
        "\n",
        "from sklearn.tree import DecisionTreeClassifier\n",
        "tree_model = DecisionTreeClassifier()\n",
        "tree_model = tree_model.fit(x_train, y_train)\n",
        "\n",
        "from sklearn.metrics import accuracy_score\n",
        "y_pred = tree_model.predict(x_test)\n",
        "acc_score = round(accuracy_score(y_pred, y_test), 3)\n",
        "\n",
        "from sklearn.tree import export_graphviz\n",
        "export_graphviz(tree_model, out_file = \"iris_tree.dot\",\n",
        "    feature_names = ['SepalLengthCm', 'SepalWidthCm', 'PetalLengthCm', 'PetalWidthCm'],\n",
        "    class_names = ['Iris-setosa', 'Iris-versicolor', 'Iris-virginica' ],\n",
        "    rounded= True,\n",
        "    filled =True)"
      ]
    },
    {
      "cell_type": "code",
      "source": [
        "import numpy as np\n",
        " \n",
        "#buat data jumlah kamar\n",
        "bedrooms = np.array([1,1,2,2,3,4,4,5,5,5])\n",
        " \n",
        "#data harga rumah. asumsi dalam dollar\n",
        "house_price = np.array([15000, 18000, 27000, 34000, 50000, 68000, 65000, 81000,85000, 90000])\n",
        "\n",
        "# menampilkan scatter plot dari dataset\n",
        "import matplotlib.pyplot as plt\n",
        "%matplotlib inline\n",
        " \n",
        "plt.scatter(bedrooms, house_price)\n",
        "\n",
        "from sklearn.linear_model import LinearRegression\n",
        " \n",
        "# latih model dengan Linear Regression.fit()\n",
        "bedrooms = bedrooms.reshape(-1, 1)\n",
        "linreg = LinearRegression()\n",
        "linreg.fit(bedrooms, house_price)\n",
        "\n",
        "# menampilkan plot hubungan antara jumlah kamar dengan harga rumah\n",
        "plt.scatter(bedrooms, house_price)\n",
        "plt.plot(bedrooms, linreg.predict(bedrooms))"
      ],
      "metadata": {
        "id": "RALc15QJDyDY"
      },
      "execution_count": null,
      "outputs": []
    },
    {
      "cell_type": "code",
      "source": [
        "import pandas as pd\n",
        "\n",
        "df = pd.read_csv('Social_Network_Ads.csv')\n",
        "\n",
        "data = df.drop(columns = ['User ID'])\n",
        "data = pd.get_dummies(data)\n",
        "predictions = ['Age' , 'EstimatedSalary' , 'Gender_Female' , 'Gender_Male']\n",
        "X = data[predictions]\n",
        "y = data['Purchased'] \n",
        "\n",
        "# lakukan normalisasi terhadap data yang kita miliki\n",
        "from sklearn.preprocessing import StandardScaler\n",
        "scaler = StandardScaler()\n",
        "scaler.fit(X)\n",
        "scaled_data = scaler.transform(X)\n",
        "scaled_data = pd.DataFrame(scaled_data, columns= X.columns)\n",
        "\n",
        "from sklearn.model_selection import train_test_split\n",
        " \n",
        "# bagi data menjadi train dan test untuk setiap atribut dan label\n",
        "X_train, X_test, y_train, y_test = train_test_split(scaled_data, y, test_size=0.2, random_state=1)\n",
        "\n",
        "from sklearn import linear_model\n",
        " \n",
        "# latih model dengan fungsi fit\n",
        "model = linear_model.LogisticRegression()\n",
        "model.fit(X_train, y_train)\n",
        "\n",
        "# uji akurasi model\n",
        "model.score(X_test, y_test)"
      ],
      "metadata": {
        "colab": {
          "base_uri": "https://localhost:8080/"
        },
        "id": "Zm3QOPHLE7Pe",
        "outputId": "3ac1e148-f112-4b74-f83c-453267e985bd"
      },
      "execution_count": null,
      "outputs": [
        {
          "output_type": "execute_result",
          "data": {
            "text/plain": [
              "0.825"
            ]
          },
          "metadata": {},
          "execution_count": 26
        }
      ]
    },
    {
      "cell_type": "code",
      "source": [
        "import pandas as pd\n",
        " \n",
        "#ubah file csv menjadi dataframe\n",
        "df = pd.read_csv('Mall_Customers.csv')\n",
        " \n",
        "# tampilkan 3 baris pertama\n",
        "df.head(3)\n",
        "\n",
        "# ubah nama kolom\n",
        "df = df.rename(columns={'Gender': 'gender', 'Age': 'age',\n",
        "                        'Annual Income (k$)': 'annual_income',\n",
        "                        'Spending Score (1-100)': 'spending_score'})\n",
        " \n",
        "# ubah data kategorik menjadi data numerik\n",
        "df['gender'].replace(['Female', 'Male'], [0,1], inplace=True)\n",
        " \n",
        "# # tampilkan data yang sudah di preprocess\n",
        "# df.head(3)\n",
        "\n",
        "from sklearn.cluster import KMeans\n",
        " \n",
        "# menghilangkan kolom customer id dan gender\n",
        "X = df.drop(['CustomerID', 'gender'], axis=1)\n",
        " \n",
        "#membuat list yang berisi inertia\n",
        "clusters = []\n",
        "for i in range(1,11):\n",
        "  km = KMeans(n_clusters=i, n_init=10).fit(X)\n",
        "  clusters.append(km.inertia_)\n",
        "\n",
        "import matplotlib.pyplot as plt\n",
        "%matplotlib inline\n",
        "import seaborn as sns\n",
        " \n",
        "# membuat plot inertia\n",
        "fig, ax = plt.subplots(figsize=(8, 4))\n",
        "sns.lineplot(x=list(range(1, 11)), y=clusters, ax=ax)\n",
        "ax.set_title('Cari Elbow')\n",
        "ax.set_xlabel('Clusters')\n",
        "ax.set_ylabel('Inertia')\n",
        "\n",
        "# membuat objek KMeans\n",
        "km5 = KMeans(n_clusters=5, n_init=10).fit(X)\n",
        " \n",
        "# menambahkan kolom label pada dataset\n",
        "X['Labels'] = km5.labels_\n",
        " \n",
        "# membuat plot KMeans dengan 5 klaster\n",
        "plt.figure(figsize=(8,4))\n",
        "sns.scatterplot(x=X['annual_income'], y=X['spending_score'], hue=X['Labels'],\n",
        "                palette=sns.color_palette('hls', 5))\n",
        "plt.title('KMeans dengan 5 Cluster')\n",
        "plt.show()"
      ],
      "metadata": {
        "colab": {
          "base_uri": "https://localhost:8080/",
          "height": 574
        },
        "id": "HRCES0lbM_Ot",
        "outputId": "f695bb94-a56c-4d15-c522-d77230a90cf7"
      },
      "execution_count": null,
      "outputs": [
        {
          "output_type": "display_data",
          "data": {
            "text/plain": [
              "<Figure size 576x288 with 1 Axes>"
            ],
            "image/png": "[encoded data removed]"
          },
          "metadata": {
            "needs_background": "light"
          }
        },
        {
          "output_type": "display_data",
          "data": {
            "text/plain": [
              "<Figure size 576x288 with 1 Axes>"
            ],
            "image/png": "[encoded data removed]"
          },
          "metadata": {
            "needs_background": "light"
          }
        }
      ]
    },
    {
      "cell_type": "code",
      "source": [
        "from sklearn import datasets\n",
        "from sklearn.model_selection import train_test_split\n",
        " \n",
        "iris = datasets.load_iris()\n",
        "atribut = iris.data\n",
        "label = iris.target\n",
        " \n",
        "# bagi dataset menjadi train set dan test set\n",
        "X_train, X_test, y_train, y_test = train_test_split(\n",
        "    atribut, label, test_size=0.2, random_state=1)\n",
        " \n",
        "from sklearn import tree\n",
        " \n",
        "decision_tree = tree.DecisionTreeClassifier()\n",
        "model_pertama = decision_tree.fit(X_train, y_train)\n",
        "model_pertama.score(X_test, y_test)\n",
        "\n",
        "from sklearn.decomposition import PCA\n",
        " \n",
        "# membuat objek PCA dengan 4 principal component\n",
        "pca = PCA(n_components=4)\n",
        " \n",
        "# mengaplikasikan PCA pada dataset\n",
        "pca_attributes = pca.fit_transform(X_train)\n",
        " \n",
        "# melihat variance dari setiap atribut\n",
        "pca.explained_variance_ratio_\n",
        "\n",
        "# PCA dengan 2 principal component\n",
        "pca = PCA(n_components = 2)\n",
        "X_train_pca = pca.fit_transform(X_train)\n",
        "X_test_pca = pca.fit_transform(X_test)\n",
        "\n",
        "# uji akurasi classifier\n",
        "model2 = decision_tree.fit(X_train_pca, y_train)\n",
        "model2.score(X_test_pca, y_test)"
      ],
      "metadata": {
        "colab": {
          "base_uri": "https://localhost:8080/"
        },
        "id": "0fOUIurvVhBc",
        "outputId": "36b12b72-64d6-4353-a40f-c04f26d95029"
      },
      "execution_count": null,
      "outputs": [
        {
          "output_type": "execute_result",
          "data": {
            "text/plain": [
              "0.9333333333333333"
            ]
          },
          "metadata": {},
          "execution_count": 17
        }
      ]
    },
    {
      "cell_type": "code",
      "source": [
        "import pandas as pd\n",
        " \n",
        "df = pd.read_csv('diabetes.csv')\n",
        "\n",
        "# memisahkan atribut pada dataset dan menyimpannya pada sebuah variabel\n",
        "X = df[df.columns[:8]]\n",
        " \n",
        "# memisahkan label pada dataset dan menyimpannya pada sebuah variabel\n",
        "y = df['Outcome']\n",
        "\n",
        "from sklearn.preprocessing import StandardScaler\n",
        " \n",
        "# standarisasi nilai-nilai dari dataset\n",
        "scaler = StandardScaler()\n",
        "scaler.fit(X)\n",
        "X = scaler.transform(X)\n",
        "\n",
        "from sklearn.model_selection import train_test_split\n",
        " \n",
        "# memisahkan data untuk training dan testing\n",
        "X_train, X_test, y_train, y_test = train_test_split(\n",
        "    X, y, test_size=0.33, random_state=42)\n",
        "\n",
        "from sklearn.svm import SVC\n",
        " \n",
        "# membuat objek SVC dan memanggil fungsi fit untuk melatih model\n",
        "clf = SVC()\n",
        "clf.fit(X_train, y_train)\n",
        "\n",
        "# Menampilkan skor akurasi prediksi\n",
        "clf.score(X_test, y_test)"
      ],
      "metadata": {
        "colab": {
          "base_uri": "https://localhost:8080/"
        },
        "id": "uoHj8Hvf1jtB",
        "outputId": "d1246adc-516d-47dd-88f1-2243a9dc8433"
      },
      "execution_count": null,
      "outputs": [
        {
          "output_type": "execute_result",
          "data": {
            "text/plain": [
              "0.7559055118110236"
            ]
          },
          "metadata": {},
          "execution_count": 2
        }
      ]
    },
    {
      "cell_type": "code",
      "source": [
        "import pandas as pd\n",
        " \n",
        "# membaca dataset dan mengubahnya menjadi dataframe\n",
        "data = pd.read_csv('Salary_Data.csv')\n",
        "\n",
        "import numpy as np\n",
        " \n",
        "# memisahkan atribut dan label\n",
        "X = data['YearsExperience']\n",
        "y = data['Salary']\n",
        "\n",
        "# mengubah bentuk atribut\n",
        "X = X[:,np.newaxis]\n",
        "\n",
        "from sklearn.svm import SVR\n",
        " \n",
        "# membangun model dengan parameter C, gamma, dan kernel\n",
        "model  = SVR(C=1000, gamma=0.05, kernel='rbf')\n",
        " \n",
        "# melatih model dengan fungsi fit\n",
        "model.fit(X,y)\n",
        "\n",
        "import matplotlib.pyplot as plt\n",
        " \n",
        "# memvisualisasikan model\n",
        "plt.scatter(X, y)\n",
        "plt.plot(X, model.predict(X))"
      ],
      "metadata": {
        "colab": {
          "base_uri": "https://localhost:8080/",
          "height": 337
        },
        "id": "YBGZwuqO2UrZ",
        "outputId": "e5e11fc9-3f41-4af0-cee3-24a0bdefdb96"
      },
      "execution_count": null,
      "outputs": [
        {
          "output_type": "stream",
          "name": "stderr",
          "text": [
            "<ipython-input-12-cb087910bee1>:13: FutureWarning: Support for multi-dimensional indexing (e.g. `obj[:, None]`) is deprecated and will be removed in a future version.  Convert to a numpy array before indexing instead.\n",
            "  X = X[:,np.newaxis]\n"
          ]
        },
        {
          "output_type": "execute_result",
          "data": {
            "text/plain": [
              "[<matplotlib.lines.Line2D at 0x7fd18653f700>]"
            ]
          },
          "metadata": {},
          "execution_count": 12
        },
        {
          "output_type": "display_data",
          "data": {
            "text/plain": [
              "<Figure size 432x288 with 1 Axes>"
            ],
            "image/png": "[encoded data removed]"
          },
          "metadata": {
            "needs_background": "light"
          }
        }
      ]
    },
    {
      "cell_type": "code",
      "source": [
        "import pandas as pd\n",
        " \n",
        "# membaca dataset dan mengubahnya menjadi dataframe\n",
        "data = pd.read_csv('Salary_Data.csv')\n",
        "\n",
        "import numpy as np\n",
        " \n",
        "# memisahkan atribut dan label\n",
        "X = data['YearsExperience']\n",
        "y = data['Salary']\n",
        "\n",
        "# mengubah bentuk atribut\n",
        "X = X[:,np.newaxis]\n",
        "\n",
        "from sklearn.model_selection import GridSearchCV\n",
        "from sklearn.svm import SVR\n",
        " \n",
        "# membangun model dengan parameter C, gamma, dan kernel\n",
        "model = SVR()\n",
        "parameters = {\n",
        "    'kernel': ['rbf'],\n",
        "    'C':     [1000, 10000, 100000],\n",
        "    'gamma': [0.5, 0.05,0.005]\n",
        "}\n",
        "grid_search = GridSearchCV(model, parameters)\n",
        " \n",
        "# melatih model dengan fungsi fit\n",
        "grid_search.fit(X,y)\n",
        "\n",
        "# menampilkan parameter terbaik dari objek grid_search\n",
        "print(grid_search.best_params_)\n",
        "\n",
        "# membuat model SVM baru dengan parameter terbaik hasil grid search\n",
        "model_baru  = SVR(C=100000, gamma=0.005, kernel='rbf')\n",
        "model_baru.fit(X,y)\n",
        "\n",
        "import matplotlib.pyplot as plt\n",
        "plt.scatter(X, y)\n",
        "plt.plot(X, model_baru.predict(X))"
      ],
      "metadata": {
        "colab": {
          "base_uri": "https://localhost:8080/",
          "height": 354
        },
        "id": "ugCkKnzz-FN-",
        "outputId": "0389a334-5309-4bf3-96b1-80e97c26f422"
      },
      "execution_count": null,
      "outputs": [
        {
          "output_type": "stream",
          "name": "stdout",
          "text": [
            "{'C': 100000, 'gamma': 0.005, 'kernel': 'rbf'}\n"
          ]
        },
        {
          "output_type": "stream",
          "name": "stderr",
          "text": [
            "<ipython-input-11-efcd98e21c60>:13: FutureWarning: Support for multi-dimensional indexing (e.g. `obj[:, None]`) is deprecated and will be removed in a future version.  Convert to a numpy array before indexing instead.\n",
            "  X = X[:,np.newaxis]\n"
          ]
        },
        {
          "output_type": "execute_result",
          "data": {
            "text/plain": [
              "[<matplotlib.lines.Line2D at 0x7fd18655e4c0>]"
            ]
          },
          "metadata": {},
          "execution_count": 11
        },
        {
          "output_type": "display_data",
          "data": {
            "text/plain": [
              "<Figure size 432x288 with 1 Axes>"
            ],
            "image/png": "[encoded data removed]"
          },
          "metadata": {
            "needs_background": "light"
          }
        }
      ]
    },
    {
      "cell_type": "code",
      "source": [
        "import tensorflow as tf\n",
        "\n",
        "mnist = tf.keras.datasets.fashion_mnist\n",
        "\n",
        "(x_train, y_train), (x_test, y_test) = mnist.load_data()\n",
        "x_train, x_test = x_train/255.0, x_test/255.0\n",
        "\n",
        "model = tf.keras.models.Sequential([\n",
        "    tf.keras.layers.Flatten(input_shape=(28, 28)),\n",
        "    tf.keras.layers.Dense(512, activation=tf.nn.relu),\n",
        "    tf.keras.layers.Dense(10, activation=tf.nn.softmax)\n",
        "    ])\n",
        "\n",
        "model.compile(optimizer=tf.optimizers.Adam(),\n",
        "              loss='sparse_categorical_crossentropy',\n",
        "              metrics=['accuracy'])\n",
        "\n",
        "model.fit(x_train, y_train, epochs=10)"
      ],
      "metadata": {
        "colab": {
          "base_uri": "https://localhost:8080/"
        },
        "id": "jWb-h-sznOt1",
        "outputId": "93f3f868-2a3d-47e1-94ac-91f0ce6167cd"
      },
      "execution_count": 7,
      "outputs": [
        {
          "output_type": "stream",
          "name": "stdout",
          "text": [
            "Epoch 1/10\n",
            "1875/1875 [==============================] - 33s 16ms/step - loss: 0.4719 - accuracy: 0.8318\n",
            "Epoch 2/10\n",
            "1875/1875 [==============================] - 22s 12ms/step - loss: 0.3608 - accuracy: 0.8678\n",
            "Epoch 3/10\n",
            "1875/1875 [==============================] - 16s 9ms/step - loss: 0.3214 - accuracy: 0.8812\n",
            "Epoch 4/10\n",
            "1875/1875 [==============================] - 16s 9ms/step - loss: 0.2996 - accuracy: 0.8898\n",
            "Epoch 5/10\n",
            "1875/1875 [==============================] - 17s 9ms/step - loss: 0.2797 - accuracy: 0.8956\n",
            "Epoch 6/10\n",
            "1875/1875 [==============================] - 16s 9ms/step - loss: 0.2666 - accuracy: 0.9010\n",
            "Epoch 7/10\n",
            "1875/1875 [==============================] - 21s 11ms/step - loss: 0.2547 - accuracy: 0.9053\n",
            "Epoch 8/10\n",
            "1875/1875 [==============================] - 17s 9ms/step - loss: 0.2408 - accuracy: 0.9103\n",
            "Epoch 9/10\n",
            "1875/1875 [==============================] - 15s 8ms/step - loss: 0.2327 - accuracy: 0.9133\n",
            "Epoch 10/10\n",
            "1875/1875 [==============================] - 16s 8ms/step - loss: 0.2236 - accuracy: 0.9166\n"
          ]
        },
        {
          "output_type": "execute_result",
          "data": {
            "text/plain": [
              "<keras.callbacks.History at 0x7efe8a7e6ca0>"
            ]
          },
          "metadata": {},
          "execution_count": 7
        }
      ]
    },
    {
      "cell_type": "code",
      "source": [
        "base_dir = '/tmp/images'\n",
        "train_dir = os.path.join(base_dir, 'train')\n",
        "validation_dir = os.path.join(base_dir, 'val')\n",
        "\n",
        "from tensorflow.keras.preprocessing.image import ImageDataGenerator\n",
        " \n",
        "train_datagen = ImageDataGenerator(\n",
        "                    rescale=1./255,\n",
        "                    rotation_range=20,\n",
        "                    horizontal_flip=True,\n",
        "                    shear_range = 0.2,\n",
        "                    fill_mode = 'nearest')\n",
        " \n",
        "test_datagen = ImageDataGenerator(\n",
        "                    rescale=1./255)\n",
        "\n",
        "train_generator = train_datagen.flow_from_directory(\n",
        "        train_dir,  # direktori data latih\n",
        "        target_size=(150, 150),  # mengubah resolusi seluruh gambar menjadi 150x150 piksel\n",
        "        batch_size=4,\n",
        "        # karena ini merupakan masalah klasifikasi 2 kelas, gunakan class_mode = 'binary'\n",
        "        class_mode='binary')\n",
        " \n",
        "validation_generator = test_datagen.flow_from_directory(\n",
        "        validation_dir, # direktori data validasi\n",
        "        target_size=(150, 150), # mengubah resolusi seluruh gambar menjadi 150x150 piksel\n",
        "        batch_size=4, # karena ini merupakan masalah klasifikasi 2 kelas gunakan class_mode = 'binary'\n",
        "        class_mode='binary')\n",
        "\n",
        "model = tf.keras.models.Sequential([\n",
        "    tf.keras.layers.Conv2D(32, (3,3), activation='relu', input_shape=(150, 150, 3)),\n",
        "    tf.keras.layers.MaxPooling2D(2, 2),\n",
        "    tf.keras.layers.Conv2D(64, (3,3), activation='relu'),\n",
        "    tf.keras.layers.MaxPooling2D(2,2),\n",
        "    tf.keras.layers.Conv2D(128, (3,3), activation='relu'),\n",
        "    tf.keras.layers.MaxPooling2D(2,2),\n",
        "    tf.keras.layers.Conv2D(512, (3,3), activation='relu'),\n",
        "    tf.keras.layers.MaxPooling2D(2,2),\n",
        "    tf.keras.layers.Flatten(),\n",
        "    tf.keras.layers.Dense(512, activation='relu'),\n",
        "    tf.keras.layers.Dense(1, activation='sigmoid')\n",
        "])\n",
        "\n",
        "# compile model dengan 'adam' optimizer loss function 'binary_crossentropy' \n",
        "model.compile(loss='binary_crossentropy',\n",
        "              optimizer=tf.optimizers.Adam(),\n",
        "              metrics=['accuracy'])\n",
        "\n",
        "# latih model dengan model.fit \n",
        "model.fit(\n",
        "      train_generator,\n",
        "      steps_per_epoch=25,  # berapa batch yang akan dieksekusi pada setiap epoch\n",
        "      epochs=20, # tambahkan epochs jika akurasi model belum optimal\n",
        "      validation_data=validation_generator, # menampilkan akurasi pengujian data validasi\n",
        "      validation_steps=5,  # berapa batch yang akan dieksekusi pada setiap epoch\n",
        "      verbose=2)\n",
        "\n",
        "import numpy as np\n",
        "from google.colab import files\n",
        "from tensorflow.keras.preprocessing import image\n",
        "import matplotlib.pyplot as plt\n",
        "import matplotlib.image as mpimg\n",
        "%matplotlib inline\n",
        " \n",
        "uploaded = files.upload()\n",
        " \n",
        "for fn in uploaded.keys():\n",
        " \n",
        "  # predicting images\n",
        "  path = fn\n",
        "  img = image.load_img(path, target_size=(150,150))\n",
        " \n",
        "  imgplot = plt.imshow(img)\n",
        "  x = image.img_to_array(img)\n",
        "  x = np.expand_dims(x, axis=0)\n",
        "  images = np.vstack([x])\n",
        " \n",
        "  classes = model.predict(images, batch_size=10)  \n",
        "  print(fn)\n",
        "  if classes==0:\n",
        "   print('clean')\n",
        "  else:\n",
        "   print('messy')"
      ],
      "metadata": {
        "colab": {
          "base_uri": "https://localhost:8080/"
        },
        "id": "t7sfuKkGuaOI",
        "outputId": "e89e2eea-c7d9-4a29-dc97-e107290cd59a"
      },
      "execution_count": 16,
      "outputs": [
        {
          "output_type": "stream",
          "name": "stdout",
          "text": [
            "Found 192 images belonging to 2 classes.\n",
            "Found 20 images belonging to 2 classes.\n",
            "Epoch 1/20\n",
            "25/25 - 22s - loss: 0.9803 - accuracy: 0.5700 - val_loss: 0.6926 - val_accuracy: 0.5000 - 22s/epoch - 869ms/step\n",
            "Epoch 2/20\n",
            "25/25 - 18s - loss: 0.6838 - accuracy: 0.5800 - val_loss: 0.8980 - val_accuracy: 0.5000 - 18s/epoch - 725ms/step\n",
            "Epoch 3/20\n",
            "25/25 - 17s - loss: 0.6765 - accuracy: 0.5900 - val_loss: 0.6158 - val_accuracy: 0.6500 - 17s/epoch - 668ms/step\n",
            "Epoch 4/20\n",
            "25/25 - 17s - loss: 0.5633 - accuracy: 0.7000 - val_loss: 0.4008 - val_accuracy: 0.8500 - 17s/epoch - 674ms/step\n",
            "Epoch 5/20\n",
            "25/25 - 18s - loss: 0.5879 - accuracy: 0.7000 - val_loss: 0.5878 - val_accuracy: 0.8000 - 18s/epoch - 721ms/step\n",
            "Epoch 6/20\n",
            "25/25 - 16s - loss: 0.6112 - accuracy: 0.8000 - val_loss: 0.5933 - val_accuracy: 0.6000 - 16s/epoch - 645ms/step\n",
            "Epoch 7/20\n",
            "25/25 - 16s - loss: 0.6311 - accuracy: 0.6600 - val_loss: 0.5889 - val_accuracy: 0.6000 - 16s/epoch - 643ms/step\n",
            "Epoch 8/20\n",
            "25/25 - 17s - loss: 0.6485 - accuracy: 0.6600 - val_loss: 0.6261 - val_accuracy: 0.8500 - 17s/epoch - 677ms/step\n",
            "Epoch 9/20\n",
            "25/25 - 18s - loss: 0.5917 - accuracy: 0.7300 - val_loss: 0.5137 - val_accuracy: 0.7500 - 18s/epoch - 712ms/step\n",
            "Epoch 10/20\n",
            "25/25 - 17s - loss: 0.5634 - accuracy: 0.7500 - val_loss: 0.4320 - val_accuracy: 0.8000 - 17s/epoch - 683ms/step\n",
            "Epoch 11/20\n",
            "25/25 - 18s - loss: 0.6514 - accuracy: 0.6600 - val_loss: 0.6292 - val_accuracy: 0.5500 - 18s/epoch - 709ms/step\n",
            "Epoch 12/20\n",
            "25/25 - 17s - loss: 0.5651 - accuracy: 0.7100 - val_loss: 0.4824 - val_accuracy: 0.7500 - 17s/epoch - 681ms/step\n",
            "Epoch 13/20\n",
            "25/25 - 17s - loss: 0.5372 - accuracy: 0.7300 - val_loss: 0.4688 - val_accuracy: 0.7500 - 17s/epoch - 670ms/step\n",
            "Epoch 14/20\n",
            "25/25 - 17s - loss: 0.6188 - accuracy: 0.7200 - val_loss: 0.5348 - val_accuracy: 0.7500 - 17s/epoch - 695ms/step\n",
            "Epoch 15/20\n",
            "25/25 - 17s - loss: 0.5480 - accuracy: 0.7800 - val_loss: 0.5055 - val_accuracy: 0.8000 - 17s/epoch - 669ms/step\n",
            "Epoch 16/20\n",
            "25/25 - 17s - loss: 0.4953 - accuracy: 0.7500 - val_loss: 0.4736 - val_accuracy: 0.8000 - 17s/epoch - 673ms/step\n",
            "Epoch 17/20\n",
            "25/25 - 18s - loss: 0.4691 - accuracy: 0.8200 - val_loss: 0.5653 - val_accuracy: 0.7500 - 18s/epoch - 721ms/step\n",
            "Epoch 18/20\n",
            "25/25 - 18s - loss: 0.4789 - accuracy: 0.7500 - val_loss: 0.4388 - val_accuracy: 0.7500 - 18s/epoch - 726ms/step\n",
            "Epoch 19/20\n",
            "25/25 - 17s - loss: 0.4763 - accuracy: 0.7600 - val_loss: 0.4714 - val_accuracy: 0.7500 - 17s/epoch - 663ms/step\n",
            "Epoch 20/20\n",
            "25/25 - 18s - loss: 0.3481 - accuracy: 0.8900 - val_loss: 0.5828 - val_accuracy: 0.7500 - 18s/epoch - 716ms/step\n"
          ]
        },
        {
          "output_type": "execute_result",
          "data": {
            "text/plain": [
              "<keras.callbacks.History at 0x7eff2cb65e20>"
            ]
          },
          "metadata": {},
          "execution_count": 16
        }
      ]
    }
  ]
}